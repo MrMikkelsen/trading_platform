{
 "cells": [
  {
   "cell_type": "code",
   "execution_count": 1,
   "id": "cce8c4ea-3817-42fa-9559-b993f99678cc",
   "metadata": {},
   "outputs": [
    {
     "name": "stdout",
     "output_type": "stream",
     "text": [
      "Collecting hackathon-linc\n",
      "  Using cached hackathon_linc-0.1.45-py2.py3-none-any.whl.metadata (1.8 kB)\n",
      "Collecting Click>=7.0 (from hackathon-linc)\n",
      "  Downloading click-8.1.8-py3-none-any.whl.metadata (2.3 kB)\n",
      "Requirement already satisfied: requests>=2.0.0 in /opt/homebrew/Cellar/jupyterlab/4.3.5/libexec/lib/python3.13/site-packages (from hackathon-linc) (2.32.3)\n",
      "Collecting pandas>=0.25.3 (from hackathon-linc)\n",
      "  Using cached pandas-2.2.3-cp313-cp313-macosx_11_0_arm64.whl.metadata (89 kB)\n",
      "Requirement already satisfied: numpy>=1.18.0 in /opt/homebrew/lib/python3.13/site-packages (from hackathon-linc) (2.2.2)\n",
      "Requirement already satisfied: python-dateutil>=2.8.2 in /opt/homebrew/Cellar/jupyterlab/4.3.5/libexec/lib/python3.13/site-packages (from pandas>=0.25.3->hackathon-linc) (2.9.0.post0)\n",
      "Collecting pytz>=2020.1 (from pandas>=0.25.3->hackathon-linc)\n",
      "  Downloading pytz-2025.1-py2.py3-none-any.whl.metadata (22 kB)\n",
      "Collecting tzdata>=2022.7 (from pandas>=0.25.3->hackathon-linc)\n",
      "  Downloading tzdata-2025.1-py2.py3-none-any.whl.metadata (1.4 kB)\n",
      "Requirement already satisfied: charset_normalizer<4,>=2 in /opt/homebrew/Cellar/jupyterlab/4.3.5/libexec/lib/python3.13/site-packages (from requests>=2.0.0->hackathon-linc) (3.4.1)\n",
      "Requirement already satisfied: idna<4,>=2.5 in /opt/homebrew/Cellar/jupyterlab/4.3.5/libexec/lib/python3.13/site-packages (from requests>=2.0.0->hackathon-linc) (3.10)\n",
      "Requirement already satisfied: urllib3<3,>=1.21.1 in /opt/homebrew/Cellar/jupyterlab/4.3.5/libexec/lib/python3.13/site-packages (from requests>=2.0.0->hackathon-linc) (2.3.0)\n",
      "Requirement already satisfied: certifi>=2017.4.17 in /opt/homebrew/opt/certifi/lib/python3.13/site-packages (from requests>=2.0.0->hackathon-linc) (2025.1.31)\n",
      "Requirement already satisfied: six>=1.5 in /opt/homebrew/Cellar/jupyterlab/4.3.5/libexec/lib/python3.13/site-packages (from python-dateutil>=2.8.2->pandas>=0.25.3->hackathon-linc) (1.17.0)\n",
      "Using cached hackathon_linc-0.1.45-py2.py3-none-any.whl (8.4 kB)\n",
      "Downloading click-8.1.8-py3-none-any.whl (98 kB)\n",
      "Using cached pandas-2.2.3-cp313-cp313-macosx_11_0_arm64.whl (11.3 MB)\n",
      "Downloading pytz-2025.1-py2.py3-none-any.whl (507 kB)\n",
      "Downloading tzdata-2025.1-py2.py3-none-any.whl (346 kB)\n",
      "Installing collected packages: pytz, tzdata, Click, pandas, hackathon-linc\n",
      "Successfully installed Click-8.1.8 hackathon-linc-0.1.45 pandas-2.2.3 pytz-2025.1 tzdata-2025.1\n",
      "\n",
      "\u001b[1m[\u001b[0m\u001b[34;49mnotice\u001b[0m\u001b[1;39;49m]\u001b[0m\u001b[39;49m A new release of pip is available: \u001b[0m\u001b[31;49m24.3.1\u001b[0m\u001b[39;49m -> \u001b[0m\u001b[32;49m25.0.1\u001b[0m\n",
      "\u001b[1m[\u001b[0m\u001b[34;49mnotice\u001b[0m\u001b[1;39;49m]\u001b[0m\u001b[39;49m To update, run: \u001b[0m\u001b[32;49m/opt/homebrew/Cellar/jupyterlab/4.3.5/libexec/bin/python -m pip install --upgrade pip\u001b[0m\n",
      "Note: you may need to restart the kernel to use updated packages.\n"
     ]
    }
   ],
   "source": [
    "%pip install hackathon-linc"
   ]
  },
  {
   "cell_type": "code",
   "execution_count": 11,
   "id": "5a1c513d-8a98-4959-8c08-23b076b320da",
   "metadata": {},
   "outputs": [
    {
     "name": "stdout",
     "output_type": "stream",
     "text": [
      "\n",
      "\n",
      "    Welcome to the LINC Hackathon! Your token is now saved in the Console. \n",
      "    That means you don't need to carry that out when using the other functions\n",
      "    as long as you don't close your console. \n",
      "    \n",
      "    This function is only to be used once to authenticate your token.\n",
      "    \n",
      "    Happy coding!\n",
      "\n",
      "    \n"
     ]
    }
   ],
   "source": [
    "import hackathon_linc as lh\n",
    "import pandas as pd\n",
    "\n",
    "lh.init('86550424-b398-429b-be49-4c2e6dd0dd41')"
   ]
  },
  {
   "cell_type": "code",
   "execution_count": 6,
   "id": "d53359f5-f357-44c4-a01f-78057214ac44",
   "metadata": {},
   "outputs": [
    {
     "name": "stdout",
     "output_type": "stream",
     "text": [
      "{'amount': 1, 'created_at': '2015-07-30T08:30:00', 'ended_at': None, 'id': '93027d3c-ae51-4e1e-a8d0-809f9988cad7', 'order_status': 'pending', 'order_type': 'buy', 'price': 102.0, 'security_id': 'f62f7c36-8f27-4ae6-80a2-c4fdbd80aa2f', 'team_id': 'e8a17370-a80b-47f6-a68e-2f963a330fb5'}\n"
     ]
    }
   ],
   "source": [
    "print(lh.buy(\"STOCK1\", price=102, amount=1))"
   ]
  },
  {
   "cell_type": "code",
   "execution_count": null,
   "id": "8cb68bbc-6f2a-47fc-bdb5-f4900540079b",
   "metadata": {},
   "outputs": [],
   "source": [
    "3c50603f-9f6d-45bf-91b2-0a16bc4e959e\n",
    "f264b902-4bb0-4501-8259-f9bfde46603f\n",
    "62588f42-dc3b-409f-a870-10c11fd4d422\n",
    "d11073c9-9ee6-494d-99de-a1b406e9871d\n",
    "0e6cffdb-3fd9-4655-b87f-8062b86f3570\n",
    "c2897269-e6d0-4968-86b3-716ee6c7fb26\n",
    "daae1921-311f-4eb6-8cee-b3750e17359e\n",
    "040909f9-11f5-4c97-aa61-2ee00e4fb5c3\n",
    "5a52646e-5bf2-4d44-9ce7-3c213f7d63db"
   ]
  },
  {
   "cell_type": "code",
   "execution_count": 7,
   "id": "66606a09-048e-460d-8525-2925bf87ac20",
   "metadata": {},
   "outputs": [
    {
     "name": "stdout",
     "output_type": "stream",
     "text": [
      "('buy', <function buy at 0x1108f0c20>)\n",
      "('cancel', <function cancel at 0x1108f0e00>)\n",
      "('get_all_orders', <function get_all_orders at 0x1108f0fe0>)\n",
      "('get_all_tickers', <function get_all_tickers at 0x106b1e700>)\n",
      "('get_balance', <function get_balance at 0x1108f1260>)\n",
      "('get_completed_orders', <function get_completed_orders at 0x1108f1080>)\n",
      "('get_current_price', <function get_current_price at 0x1108f0900>)\n",
      "('get_historical_data', <function get_historical_data at 0x1108f09a0>)\n",
      "('get_pending_orders', <function get_pending_orders at 0x1108f1120>)\n",
      "('get_portfolio', <function get_portfolio at 0x1108f1300>)\n",
      "('get_stoploss_orders', <function get_stoploss_orders at 0x1108f11c0>)\n",
      "('init', <function init at 0x106cf09a0>)\n",
      "('sell', <function sell at 0x1108f0cc0>)\n",
      "('stoploss', <function stoploss at 0x1108f0d60>)\n"
     ]
    }
   ],
   "source": [
    "from inspect import getmembers, isfunction\n",
    "\n",
    "for x in getmembers(lh, isfunction):\n",
    "    print(x)"
   ]
  },
  {
   "cell_type": "code",
   "execution_count": 12,
   "id": "a3365ede-d52f-4a13-b3a6-2350b739d307",
   "metadata": {},
   "outputs": [
    {
     "data": {
      "text/plain": [
       "{'amount': 1,\n",
       " 'created_at': '2015-12-09T12:06:00',\n",
       " 'ended_at': None,\n",
       " 'id': '2547826e-c8e2-4fc3-a3f7-22582190e915',\n",
       " 'order_status': 'pending',\n",
       " 'order_type': 'sell',\n",
       " 'price': 1.0,\n",
       " 'security_id': 'f62f7c36-8f27-4ae6-80a2-c4fdbd80aa2f',\n",
       " 'team_id': '0fb87fff-637f-4842-ac5e-906d41745ea3'}"
      ]
     },
     "execution_count": 12,
     "metadata": {},
     "output_type": "execute_result"
    }
   ],
   "source": [
    "lh.sell ('STOCK1', 1, 1)"
   ]
  }
 ],
 "metadata": {
  "kernelspec": {
   "display_name": "Python 3 (ipykernel)",
   "language": "python",
   "name": "python3"
  },
  "language_info": {
   "codemirror_mode": {
    "name": "ipython",
    "version": 3
   },
   "file_extension": ".py",
   "mimetype": "text/x-python",
   "name": "python",
   "nbconvert_exporter": "python",
   "pygments_lexer": "ipython3",
   "version": "3.13.1"
  }
 },
 "nbformat": 4,
 "nbformat_minor": 5
}
