{
 "cells": [
  {
   "cell_type": "code",
   "execution_count": 7,
   "id": "d7561c14-f5c4-4f17-af5e-6773846d5a79",
   "metadata": {},
   "outputs": [
    {
     "name": "stdout",
     "output_type": "stream",
     "text": [
      "Requirement already satisfied: hackathon-linc in /opt/homebrew/Cellar/jupyterlab/4.3.5/libexec/lib/python3.13/site-packages (0.1.45)\n",
      "Collecting hackathon-linc\n",
      "  Downloading hackathon_linc-0.1.46-py2.py3-none-any.whl.metadata (1.8 kB)\n",
      "Requirement already satisfied: Click>=7.0 in /opt/homebrew/Cellar/jupyterlab/4.3.5/libexec/lib/python3.13/site-packages (from hackathon-linc) (8.1.8)\n",
      "Requirement already satisfied: requests>=2.0.0 in /opt/homebrew/Cellar/jupyterlab/4.3.5/libexec/lib/python3.13/site-packages (from hackathon-linc) (2.32.3)\n",
      "Requirement already satisfied: pandas>=0.25.3 in /opt/homebrew/Cellar/jupyterlab/4.3.5/libexec/lib/python3.13/site-packages (from hackathon-linc) (2.2.3)\n",
      "Requirement already satisfied: numpy>=1.18.0 in /opt/homebrew/lib/python3.13/site-packages (from hackathon-linc) (2.2.2)\n",
      "Requirement already satisfied: python-dateutil>=2.8.2 in /opt/homebrew/Cellar/jupyterlab/4.3.5/libexec/lib/python3.13/site-packages (from pandas>=0.25.3->hackathon-linc) (2.9.0.post0)\n",
      "Requirement already satisfied: pytz>=2020.1 in /opt/homebrew/Cellar/jupyterlab/4.3.5/libexec/lib/python3.13/site-packages (from pandas>=0.25.3->hackathon-linc) (2025.1)\n",
      "Requirement already satisfied: tzdata>=2022.7 in /opt/homebrew/Cellar/jupyterlab/4.3.5/libexec/lib/python3.13/site-packages (from pandas>=0.25.3->hackathon-linc) (2025.1)\n",
      "Requirement already satisfied: charset_normalizer<4,>=2 in /opt/homebrew/Cellar/jupyterlab/4.3.5/libexec/lib/python3.13/site-packages (from requests>=2.0.0->hackathon-linc) (3.4.1)\n",
      "Requirement already satisfied: idna<4,>=2.5 in /opt/homebrew/Cellar/jupyterlab/4.3.5/libexec/lib/python3.13/site-packages (from requests>=2.0.0->hackathon-linc) (3.10)\n",
      "Requirement already satisfied: urllib3<3,>=1.21.1 in /opt/homebrew/Cellar/jupyterlab/4.3.5/libexec/lib/python3.13/site-packages (from requests>=2.0.0->hackathon-linc) (2.3.0)\n",
      "Requirement already satisfied: certifi>=2017.4.17 in /opt/homebrew/opt/certifi/lib/python3.13/site-packages (from requests>=2.0.0->hackathon-linc) (2025.1.31)\n",
      "Requirement already satisfied: six>=1.5 in /opt/homebrew/Cellar/jupyterlab/4.3.5/libexec/lib/python3.13/site-packages (from python-dateutil>=2.8.2->pandas>=0.25.3->hackathon-linc) (1.17.0)\n",
      "Downloading hackathon_linc-0.1.46-py2.py3-none-any.whl (8.4 kB)\n",
      "Installing collected packages: hackathon-linc\n",
      "  Attempting uninstall: hackathon-linc\n",
      "    Found existing installation: hackathon_linc 0.1.45\n",
      "    Uninstalling hackathon_linc-0.1.45:\n",
      "      Successfully uninstalled hackathon_linc-0.1.45\n",
      "Successfully installed hackathon-linc-0.1.46\n",
      "\n",
      "\u001b[1m[\u001b[0m\u001b[34;49mnotice\u001b[0m\u001b[1;39;49m]\u001b[0m\u001b[39;49m A new release of pip is available: \u001b[0m\u001b[31;49m24.3.1\u001b[0m\u001b[39;49m -> \u001b[0m\u001b[32;49m25.0.1\u001b[0m\n",
      "\u001b[1m[\u001b[0m\u001b[34;49mnotice\u001b[0m\u001b[1;39;49m]\u001b[0m\u001b[39;49m To update, run: \u001b[0m\u001b[32;49m/opt/homebrew/Cellar/jupyterlab/4.3.5/libexec/bin/python -m pip install --upgrade pip\u001b[0m\n",
      "Note: you may need to restart the kernel to use updated packages.\n"
     ]
    }
   ],
   "source": [
    "%pip install --upgrade hackathon-linc\n"
   ]
  },
  {
   "cell_type": "code",
   "execution_count": 1,
   "id": "59d9838a-f1c4-468e-9563-ebeffccb01ef",
   "metadata": {},
   "outputs": [
    {
     "name": "stdout",
     "output_type": "stream",
     "text": [
      "\n",
      "\n",
      "    Welcome to the LINC Hackathon! Your token is now saved in the Console. \n",
      "    That means you don't need to carry that out when using the other functions\n",
      "    as long as you don't close your console. \n",
      "    \n",
      "    This function is only to be used once to authenticate your token.\n",
      "    \n",
      "    Happy coding!\n",
      "\n",
      "    \n"
     ]
    }
   ],
   "source": [
    "import hackathon_linc as lh\n",
    "import pandas as pd\n",
    "\n",
    "lh.init('a2c80593-4729-4bdd-a301-34fb5006ef7b')"
   ]
  },
  {
   "cell_type": "code",
   "execution_count": 2,
   "id": "a06d7160-6ffb-4239-8181-9c5737083dc9",
   "metadata": {},
   "outputs": [
    {
     "name": "stdout",
     "output_type": "stream",
     "text": [
      "{'amount': 1, 'created_at': '2015-05-22T14:19:00', 'ended_at': None, 'id': 'd0cfbe30-0c05-4966-9f6d-bbe959d4202a', 'order_status': 'pending', 'order_type': 'buy', 'price': 102.0, 'security_id': 'bd2f0411-f35b-41e0-be95-3778106aa0c8', 'team_id': 'fabe122b-59ad-43de-8185-b9d501fbd359'}\n"
     ]
    }
   ],
   "source": [
    "print(lh.buy(\"STOCK1\", price=102, amount=1))"
   ]
  },
  {
   "cell_type": "code",
   "execution_count": 11,
   "id": "91fab6c4-a304-4e2a-b2ae-3715e4472bf4",
   "metadata": {},
   "outputs": [
    {
     "name": "stdout",
     "output_type": "stream",
     "text": [
      "{'amount': 1, 'created_at': '2015-09-09T07:00:00', 'ended_at': None, 'id': '76d1609a-af5a-41bd-928c-7bc49e0111d4', 'order_status': 'pending', 'order_type': 'buy', 'price': 65.0, 'security_id': 'b9e87080-35c3-4f3f-88ce-0f1bb6ed5593', 'team_id': '2524d8b1-dbee-4f70-a5a5-d3e56b0bcf43'}\n"
     ]
    }
   ],
   "source": []
  },
  {
   "cell_type": "code",
   "execution_count": 14,
   "id": "d47b0d7c-b59d-4bdc-be6b-ba18443d68f6",
   "metadata": {},
   "outputs": [
    {
     "name": "stdout",
     "output_type": "stream",
     "text": [
      "{'amount': 1, 'created_at': '2015-12-11T11:18:00', 'ended_at': None, 'id': '60b53cc0-f323-4551-970c-7b1b5ce7d6b3', 'order_status': 'pending', 'order_type': 'sell', 'price': 90.0, 'security_id': 'b9e87080-35c3-4f3f-88ce-0f1bb6ed5593', 'team_id': '2524d8b1-dbee-4f70-a5a5-d3e56b0bcf43'}\n"
     ]
    }
   ],
   "source": [
    "print(lh.sell(\"STOCK1\", 1, price=90))"
   ]
  }
 ],
 "metadata": {
  "kernelspec": {
   "display_name": "Python 3 (ipykernel)",
   "language": "python",
   "name": "python3"
  },
  "language_info": {
   "codemirror_mode": {
    "name": "ipython",
    "version": 3
   },
   "file_extension": ".py",
   "mimetype": "text/x-python",
   "name": "python",
   "nbconvert_exporter": "python",
   "pygments_lexer": "ipython3",
   "version": "3.13.1"
  }
 },
 "nbformat": 4,
 "nbformat_minor": 5
}
